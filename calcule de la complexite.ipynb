{
 "cells": [
  {
   "cell_type": "code",
   "execution_count": null,
   "metadata": {},
   "outputs": [],
   "source": [
    "\"\"\"\n",
    "#calcul de la complexite:\n",
    "Dans notre calcul on ne prend pas en compte les librairies ,la declaration des variables sauf si c est une initialisation et;\n",
    "On calcule uniquement les parcourt des boucles et les operations.\n",
    "Dans notre algorithme nous avons une complixite lineaire pour le calcul de celle ci:\n",
    "on compte le nombre de parcout des boucles ,le nombre d'instruction et en fin on fait leur somme pour avoir avoir la complexite \n",
    "de notre algorithme;\n",
    "exemple de calcul de complexite de notre fonction add\n",
    "def add(self, col):      // on ne tient pas compte\n",
    "        r = self.getR()+col.getR()              // 1+1   car on'a le resultat 'r' et l' operateur '+' ce qui donne 2\n",
    "        g = self.getG()+col.getG()             // 1+1 meme chose \n",
    "        b = self.getB()+col.getB()             // 1+1\n",
    "        if r>255 or b>255 or g>255:            // 5 car on 2 OR ET 2 > c est a dire 2 opertateurs de comparaison\n",
    "            print(\"Addition impossiple une des valeurs depasse 255\")        // On ne tient pas compte \n",
    "        else:         // on ne tient pas compte\n",
    "            return Couleur(r,g,b)  // On ne tient pas compte de la valeur de retour\n",
    "            \n",
    "             T(n)=1+1+1+1+1+1+5=11\n",
    "             T(n)=11 est la complexité de notre fonction\n",
    "# C' est le raisonnement que nous devrons appliquer pour calculer la complexite de notre projet             \n",
    "             \n",
    "\n",
    "\n",
    "\"\"\""
   ]
  }
 ],
 "metadata": {
  "kernelspec": {
   "display_name": "Python 3",
   "language": "python",
   "name": "python3"
  },
  "language_info": {
   "codemirror_mode": {
    "name": "ipython",
    "version": 3
   },
   "file_extension": ".py",
   "mimetype": "text/x-python",
   "name": "python",
   "nbconvert_exporter": "python",
   "pygments_lexer": "ipython3",
   "version": "3.7.6"
  }
 },
 "nbformat": 4,
 "nbformat_minor": 4
}
